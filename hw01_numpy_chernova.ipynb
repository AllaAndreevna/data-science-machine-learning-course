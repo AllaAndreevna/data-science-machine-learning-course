{
  "metadata": {
    "kernelspec": {
      "name": "python",
      "display_name": "Python (Pyodide)",
      "language": "python"
    },
    "language_info": {
      "codemirror_mode": {
        "name": "python",
        "version": 3
      },
      "file_extension": ".py",
      "mimetype": "text/x-python",
      "name": "python",
      "nbconvert_exporter": "python",
      "pygments_lexer": "ipython3",
      "version": "3.8"
    }
  },
  "nbformat_minor": 4,
  "nbformat": 4,
  "cells": [
    {
      "cell_type": "markdown",
      "source": "## Домашнее задание 1 (5 баллов)\n\nВсе задания ниже имеют равный вес (5/10).",
      "metadata": {}
    },
    {
      "cell_type": "markdown",
      "source": "### О задании\n\nВ этом домашнем задании вы попрактикуетесь в работе с библиотекой numpy, которая позволяет сравнительно легко и удобно выполнять разнообразные вычисления, избегая самостоятельной реализации поэлементной обработки.",
      "metadata": {}
    },
    {
      "cell_type": "markdown",
      "source": "Во всех задачах необходимо написать код решения внутри функции и убедиться, что она работает, с помощью [assert](https://python-reference.readthedocs.io/en/latest/docs/statements/assert.html) на выражение с использованием этой функции для данных из условия.\n\nПри решении задач запрещается использовать циклы (`for`, `while`) и оператор `if`. Да, `map`, `reduce`, `filter` и любые другие \"чисто питоновские\" конструкции тоже запрещены. **Используйте только функционал numpy**.\n\nВезде, где встречаются массивы или матрицы, подразумевается, что это `numpy.array`.\n\n**numpy reference:** https://numpy.org/doc/stable/reference/index.html",
      "metadata": {}
    },
    {
      "cell_type": "code",
      "source": "import numpy as np",
      "metadata": {
        "pycharm": {
          "name": "#%%\n"
        },
        "trusted": true
      },
      "outputs": [],
      "execution_count": 1
    },
    {
      "cell_type": "markdown",
      "source": "### Задание 1\n\nНапишите функцию, возвращающую округленную взвешенную сумму оценок по данным оценкам и весам. Можете посчитать свою оценку за курс :) В нашем случае вес экзамена равен 0.3, вес домашек - 0.4, вес контрольной - 0.2, вес самостоятельных - 0.1. Например, если за экзамен у вас 7, за домашки 10, за контрольную 8, а за самостоятельные 6, то вы получите отличную оценку 8!\n\nОбратите внимание, что на вход приходит всегда двумерный массив. В нем в каждой строке - окенки одного конкретного студента. От вас требуется вернуть итоговую оценку для всех студентов в массиве.",
      "metadata": {}
    },
    {
      "cell_type": "code",
      "source": "def result_mark(weights: np.array, marks: np.array) -> int:\n    weighted_sum = np.dot(marks, weights)\n    return np.round(weighted_sum).astype(int)",
      "metadata": {
        "trusted": true
      },
      "outputs": [],
      "execution_count": 6
    },
    {
      "cell_type": "code",
      "source": "weights = np.array([0.3, 0.4, 0.2, 0.1])\nmarks = np.array([[7, 10, 8, 6], [6, 9, 7, 6]])\n\nassert np.allclose(result_mark(weights, marks), np.array([8, 7]))",
      "metadata": {
        "trusted": true
      },
      "outputs": [],
      "execution_count": 7
    },
    {
      "cell_type": "code",
      "source": "weights = np.array([0.3, 0.4, 0.2, 0.1])\nmarks = np.array([[7, 0, 8, 6]])\n\nassert np.allclose(result_mark(weights, marks), np.array([4]))",
      "metadata": {
        "trusted": true
      },
      "outputs": [],
      "execution_count": 8
    },
    {
      "cell_type": "markdown",
      "source": "### Задание 2\n\nНапишите функцию, которая каждое четное число в массиве заменяет на его квадрат (вторую степень), а нечетное - на его синус. Округлите все значения в итоговом массиве до двух знаков после запятой.",
      "metadata": {}
    },
    {
      "cell_type": "code",
      "source": "def change_array(array: np.array) -> np.array:\n    return np.round(np.where(array % 2 == 0, array ** 2, np.sin(array)), 2)",
      "metadata": {
        "trusted": true
      },
      "outputs": [],
      "execution_count": 9
    },
    {
      "cell_type": "code",
      "source": "array = np.array([2, 5, 1, 0, -6, 22, 213431])\n\nassert np.allclose(change_array(array), np.array([4.0, -0.96, 0.84, 0.0, 36.0, 484.0, -0.58]))",
      "metadata": {
        "trusted": true
      },
      "outputs": [],
      "execution_count": 10
    },
    {
      "cell_type": "code",
      "source": "array = np.array([3, 12, 15, -97, 6])\n\nassert np.allclose(change_array(array), np.array([0.14, 144.0, 0.65, -0.38, 36.0]))",
      "metadata": {
        "trusted": true
      },
      "outputs": [],
      "execution_count": 11
    },
    {
      "cell_type": "markdown",
      "source": "### Задание 3\n\nНапишите функцию, которая вычисляет разность каждого элемента с предыдущим (для самого первого считайте, что его разница с \"предыдущим\" нулевая) в виде нового массива и возвращает вектор, в котором каждый новый элемент - сумма всех предыдущих из полученного нового массива.",
      "metadata": {}
    },
    {
      "cell_type": "code",
      "source": "def cumulative_sum_of_differences(array):\n    differences = np.diff(array, prepend=array[0])\n    differences[0] = 0  \n    return np.cumsum(differences)",
      "metadata": {
        "trusted": true
      },
      "outputs": [],
      "execution_count": 12
    },
    {
      "cell_type": "code",
      "source": "array = np.array([3, 6, 2, 8])\n\nassert np.allclose(cumulative_sum_of_differences(array), np.array([0, 3, -1, 5]))",
      "metadata": {
        "trusted": true
      },
      "outputs": [],
      "execution_count": 13
    },
    {
      "cell_type": "code",
      "source": "array = np.array([5, 1])\n\nassert np.allclose(cumulative_sum_of_differences(array), np.array([0, -4]))",
      "metadata": {
        "trusted": true
      },
      "outputs": [],
      "execution_count": 14
    },
    {
      "cell_type": "markdown",
      "source": "### Задание 4\n\nНапишите функцию, которая транспонирует двумерный массив, затем делает из него одномерный (reshape), переводит все элементы массива в *int8* и выводит его отсортированным по убыванию.",
      "metadata": {}
    },
    {
      "cell_type": "code",
      "source": "def flatten_and_sort_transposed(array: np.array) -> np.array:\n    transposed = array.T\n    flattened = transposed.reshape(-1)\n    converted = flattened.astype(np.int8)\n    sorted_array = np.sort(converted)[::-1]\n    return sorted_array",
      "metadata": {
        "trusted": true
      },
      "outputs": [],
      "execution_count": 15
    },
    {
      "cell_type": "code",
      "source": "array = np.array([[256, -10], [-381, 112]])\n\nassert np.allclose(flatten_and_sort_transposed(array), np.array([112, 0, -10, -125]))",
      "metadata": {
        "trusted": true
      },
      "outputs": [],
      "execution_count": 16
    },
    {
      "cell_type": "code",
      "source": "array = np.array([[9, 8, 7], [3, 6, 129]])\n\nassert np.allclose(flatten_and_sort_transposed(array), np.array([ 9, 8, 7, 6, 3, -127]))",
      "metadata": {
        "trusted": true
      },
      "outputs": [],
      "execution_count": 17
    },
    {
      "cell_type": "markdown",
      "source": "### Задание 5\n\nНапишите функцию, которая удаляет из массива все строки, среднее значение в которых больше общего среднего значения по всему массиву.",
      "metadata": {}
    },
    {
      "cell_type": "code",
      "source": "def filter_rows_by_mean(array):\n    row_means = np.mean(array, axis=1)\n    overall_mean = np.mean(array)\n    return array[row_means <= overall_mean]",
      "metadata": {
        "trusted": true
      },
      "outputs": [],
      "execution_count": 18
    },
    {
      "cell_type": "code",
      "source": "array = np.array([[1, 2, 3], [7, 8, 9], [4, 5, 6]])\nres = filter_rows_by_mean(array)\n\nassert res.ndim == 2\nassert np.allclose(res, np.array([[1, 2, 3], [4, 5, 6]]))",
      "metadata": {
        "trusted": true
      },
      "outputs": [],
      "execution_count": 19
    },
    {
      "cell_type": "code",
      "source": "array = np.array([[10, 20], [5, 5], [15, 15]])\nres = filter_rows_by_mean(array)\n\nassert res.ndim == 2\nassert np.allclose(res, np.array([[5, 5]]))",
      "metadata": {
        "trusted": true
      },
      "outputs": [],
      "execution_count": 20
    },
    {
      "cell_type": "markdown",
      "source": "### Задание 6\n\nНапишите функцию, которая принимает на вход число - размер массива (квадратная матрица), который заполнен по принипу щахматной доски нулями и единицами. Первой (слева сверху) идет всегда единица. Напомним, что на шахматной доске белые и черные ячейки чередуются (в данном задании чередуются нули и единицы).",
      "metadata": {}
    },
    {
      "cell_type": "code",
      "source": "def create_checkerboard(number):\n    checkerboard = np.zeros((number, number), dtype=int)\n    checkerboard[::2, ::2] = 1\n    checkerboard[1::2, 1::2] = 1\n    return checkerboard",
      "metadata": {
        "trusted": true
      },
      "outputs": [],
      "execution_count": 21
    },
    {
      "cell_type": "code",
      "source": "number = 3\n\nassert np.allclose(create_checkerboard(number) - np.array([[1, 0, 1], [0, 1, 0], [1, 0, 1]]), np.zeros((number, number)))",
      "metadata": {
        "trusted": true
      },
      "outputs": [],
      "execution_count": 22
    },
    {
      "cell_type": "code",
      "source": "number = 4\n\nassert np.allclose(create_checkerboard(number) - np.array([[1, 0, 1, 0], [0, 1, 0, 1], [1, 0, 1, 0], [0, 1, 0, 1]]), np.zeros((number, number)))",
      "metadata": {
        "trusted": true
      },
      "outputs": [],
      "execution_count": 23
    },
    {
      "cell_type": "markdown",
      "source": "### Задание 7\n\nНапишите функцию, которая соритрует строки двумерного массива по значению в первом (начиная с нуля) столбце (по возрастанию).",
      "metadata": {}
    },
    {
      "cell_type": "code",
      "source": "def sort_rows_by_second_column(array):\n    sorted_indices = np.argsort(array[:, 1]) \n    return array[sorted_indices] ",
      "metadata": {
        "trusted": true
      },
      "outputs": [],
      "execution_count": 24
    },
    {
      "cell_type": "code",
      "source": "array = np.array([[10, 2], [3, 5], [7, 1]])\n\nassert np.allclose(sort_rows_by_second_column(array), np.array([[7, 1], [10, 2], [3, 5]]))",
      "metadata": {
        "trusted": true
      },
      "outputs": [],
      "execution_count": 25
    },
    {
      "cell_type": "code",
      "source": "array = np.array([[5, 8, 1], [10, 3, 9], [2, 7, 0], [6, -1, 5]])\n\nassert np.allclose(sort_rows_by_second_column(array), np.array([[6, -1, 5], [10, 3, 9], [2, 7, 0], [5, 8, 1]]))",
      "metadata": {
        "trusted": true
      },
      "outputs": [],
      "execution_count": 26
    },
    {
      "cell_type": "markdown",
      "source": "### Задание 8\n\nНапишите функцию, которая вычисляет сумму элементов [побочной](https://ru.wikipedia.org/wiki/Квадратная_матрица) диагонали квадратной матрицы.",
      "metadata": {}
    },
    {
      "cell_type": "code",
      "source": "def sum_counterdiagonal_elements(array):\n    n = array.shape[0]\n    return np.sum(np.diagonal(array[:, ::-1]))",
      "metadata": {
        "trusted": true
      },
      "outputs": [],
      "execution_count": 27
    },
    {
      "cell_type": "code",
      "source": "array = np.array([[5, 8, 1], [10, 3, 9], [2, 7, 0]])\n\nassert sum_counterdiagonal_elements(array) == 6",
      "metadata": {
        "trusted": true
      },
      "outputs": [],
      "execution_count": 28
    },
    {
      "cell_type": "code",
      "source": "array = np.array([[-4, -1, -1, 7], [6, -10, 5, -9], [3, -8, 6, 8], [-1, -6, 7, -10]])\n\nassert sum_counterdiagonal_elements(array) == 3",
      "metadata": {
        "trusted": true
      },
      "outputs": [],
      "execution_count": 29
    },
    {
      "cell_type": "markdown",
      "source": "### Задание 9\n\nНапишите функцию, которая принимает на вход три числа (начало отрезка, конец отрезка, количество точек на отрезке). Данная функция генерирует указанное количество точек равномерно на отрезке с указанными концами (точки равноудалены друг от друга). Затем функция генерирует другой массив - натуральный логарифм от всех точек отрезка плюс единица ($ln(point + 1)$). Возвращает функция массив пар точек вида (точка на отрезке, ее логарифм). Каждое значение в возвращаемом массиве должно быть округлено до двух знаков после запятой.",
      "metadata": {}
    },
    {
      "cell_type": "code",
      "source": "def generate_logarithm_points(start, end, count):\n    points = np.linspace(start, end, count)\n    log_points = np.log(points + 1)\n    result = np.column_stack((np.round(points, 2), np.round(log_points, 2)))\n    \n    return result",
      "metadata": {
        "trusted": true
      },
      "outputs": [],
      "execution_count": 30
    },
    {
      "cell_type": "code",
      "source": "start = 1\nend = 10\ncount = 5\n\nassert np.allclose(generate_logarithm_points(start, end, count), np.array([[1., 0.69], [3.25, 1.45], [5.5 , 1.87], [7.75, 2.17], [10., 2.4]]))",
      "metadata": {
        "trusted": true
      },
      "outputs": [],
      "execution_count": 31
    },
    {
      "cell_type": "code",
      "source": "start = 5\nend = 12\ncount = 4\n\nassert np.allclose(generate_logarithm_points(start, end, count), np.array([[5., 1.79], [7.33, 2.12], [9.67, 2.37], [12., 2.56]]))",
      "metadata": {
        "trusted": true
      },
      "outputs": [],
      "execution_count": 32
    },
    {
      "cell_type": "markdown",
      "source": "### Задание 10\n\nНапишите функцию, которая нормализует входной двумерный массив. \n\nПод нормализацией в данном задании подразумевается перевод всех чисел массива на отрезок $[0; 1]$. Очевидно, недостаточно просто вычесть/прибавить лишнее, чтобы остались числа на нужном отрезке. Суть нормализации массива в том, чтобы не потерять информацию о его элементах и их соотношениях. Потому, необходимо сохранить пропорции расстояний между каждым числом - спроецировать все точки на указанный отрезок. Такой метод масштабирования массива называется MinMaxScaling. Само название дает подсказку, как нужно решить задачу. Дробные числа округляйте до двух знаков после запятой.\n\n*Будьте осторожны с делением...*",
      "metadata": {}
    },
    {
      "cell_type": "code",
      "source": "def min_max_scale(array):\n    min_val = np.min(array)\n    max_val = np.max(array)\n    scaled_array = (array - min_val) / (max_val - min_val)\n    scaled_array = np.round(scaled_array, 2)\n    return scaled_array",
      "metadata": {
        "trusted": true
      },
      "outputs": [],
      "execution_count": 33
    },
    {
      "cell_type": "code",
      "source": "array = np.array([[1, 2, 3], [4, 5, 6], [7, 8, 9]])\n\nassert np.allclose(min_max_scale(array), np.array([[0. , 0.12, 0.25], [0.38, 0.5 , 0.62], [0.75, 0.88, 1.]]))",
      "metadata": {
        "trusted": true
      },
      "outputs": [],
      "execution_count": 34
    },
    {
      "cell_type": "code",
      "source": "array = np.array([[0, 1, 2], [3, 4, 5]])\n\nassert np.allclose(min_max_scale(array), np.array([[0., 0.2, 0.4], [0.6, 0.8, 1.]]))",
      "metadata": {
        "trusted": true
      },
      "outputs": [],
      "execution_count": 35
    },
    {
      "cell_type": "code",
      "source": "",
      "metadata": {},
      "outputs": [],
      "execution_count": null
    }
  ]
}