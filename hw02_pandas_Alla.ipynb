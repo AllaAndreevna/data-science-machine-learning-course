{
 "cells": [
  {
   "cell_type": "markdown",
   "metadata": {
    "_uuid": "21c25e4f8bb31570029fd6b069131a5d00f84cf1"
   },
   "source": [
    "# Домашнее задание 2 (5 баллов).\n",
    "\n",
    "*Все задания ниже имеют равный вес (5/10)*"
   ]
  },
  {
   "cell_type": "markdown",
   "metadata": {},
   "source": [
    "Код для импорта мы написали за вас (не благодарите, нам не трудно). Дальше код будете писать вы. \n",
    "\n",
    "[Тут](https://habr.com/ru/companies/ruvds/articles/494720/) шпора по pandas. За основу домашнего задания взят ноутбук [отсюда](https://rutube.ru/video/f884aa6ed5f94120b7304506042fe5bb/) (не подглядывайте!)."
   ]
  },
  {
   "cell_type": "code",
   "execution_count": 1,
   "metadata": {
    "_uuid": "568eb2d31004b87d22e119112ae01a1e75105f1d"
   },
   "outputs": [],
   "source": [
    "import pandas as pd\n",
    "import numpy as np"
   ]
  },
  {
   "cell_type": "markdown",
   "metadata": {},
   "source": [
    "#### Описание данных\n",
    "\n",
    "Автор д/з - плохой человек, который не стал переводить описание с мотивировкой, что весь DS на английском. Так что описание полей будет на английском:\n",
    "\n",
    "1. Account ID\n",
    "- Description: A unique identifier for each social media account in the dataset.\n",
    "- Type: Integer\n",
    "- Example: 1, 2, 3, …\n",
    "2. Username\n",
    "- Description: The username or handle of the social media account.\n",
    "- Type: String\n",
    "- Example: john_doe, tech_guru_22, fitness_freak\n",
    "3. Platform\n",
    "- Description: The social media platform the account is using (Instagram, Twitter, Facebook, TikTok, LinkedIn).\n",
    "- Type: Categorical (String)\n",
    "- Example: Instagram, Twitter, Facebook, TikTok, LinkedIn\n",
    "4. Follower Count\n",
    "- Description: The total number of followers the account has.\n",
    "- Type: Integer\n",
    "- Example: 1500, 245000, 78000\n",
    "5. Posts Per Week\n",
    "- Description: The average number of posts the account creates per week.\n",
    "- Type: Integer\n",
    "- Example: 3, 5, 7\n",
    "6. Engagement Rate\n",
    "- Description: The percentage of interactions (likes, comments, shares) relative to the follower count. This is a measure of how engaging the content is.\n",
    "- Type: Float\n",
    "- Range: 0.01 to 0.15\n",
    "- Example: 0.045 (4.5% engagement rate)\n",
    "7. Ad Spend (USD)\n",
    "- Description: The monthly amount spent on advertising or promoting posts.\n",
    "- Type: Float\n",
    "- Example: 150.75, 850.00, 300.50\n",
    "8. Conversion Rate\n",
    "- Description: The percentage of users who take a desired action (e.g., clicking a link, signing up, etc.) after interacting with an ad.\n",
    "- Type: Float\n",
    "- Range: 0.01 to 0.05 (1% to 5% conversion rate)\n",
    "- Example: 0.025 (2.5% conversion rate)\n",
    "9. Campaign Reach\n",
    "- Description: The total number of unique users reached by the user’s campaigns in a given month.\n",
    "- Type: Integer\n",
    "- Example: 5000, 20000, 15000"
   ]
  },
  {
   "cell_type": "markdown",
   "metadata": {},
   "source": [
    "#### Задание 0\n",
    "\n",
    "Подгрузите данные. Да-да, за чтение таблицы баллов не будет))\n",
    "\n",
    "**Hint**: [pd.read_csv](https://pandas.pydata.org/pandas-docs/stable/reference/api/pandas.read_csv.html)"
   ]
  },
  {
   "cell_type": "code",
   "execution_count": 2,
   "metadata": {},
   "outputs": [],
   "source": [
    "df = pd.read_csv('data.csv') # ^⨀ᴥ⨀^"
   ]
  },
  {
   "cell_type": "code",
   "execution_count": 4,
   "metadata": {},
   "outputs": [
    {
     "data": {
      "text/html": [
       "<div>\n",
       "<style scoped>\n",
       "    .dataframe tbody tr th:only-of-type {\n",
       "        vertical-align: middle;\n",
       "    }\n",
       "\n",
       "    .dataframe tbody tr th {\n",
       "        vertical-align: top;\n",
       "    }\n",
       "\n",
       "    .dataframe thead th {\n",
       "        text-align: right;\n",
       "    }\n",
       "</style>\n",
       "<table border=\"1\" class=\"dataframe\">\n",
       "  <thead>\n",
       "    <tr style=\"text-align: right;\">\n",
       "      <th></th>\n",
       "      <th>Account ID</th>\n",
       "      <th>Username</th>\n",
       "      <th>Platform</th>\n",
       "      <th>Follower Count</th>\n",
       "      <th>Posts Per Week</th>\n",
       "      <th>Engagement Rate</th>\n",
       "      <th>Ad Spend (USD)</th>\n",
       "      <th>Conversion Rate</th>\n",
       "      <th>Campaign Reach</th>\n",
       "    </tr>\n",
       "  </thead>\n",
       "  <tbody>\n",
       "    <tr>\n",
       "      <th>0</th>\n",
       "      <td>1</td>\n",
       "      <td>harrislisa</td>\n",
       "      <td>TikTok</td>\n",
       "      <td>54217</td>\n",
       "      <td>3</td>\n",
       "      <td>0.0986</td>\n",
       "      <td>538.10</td>\n",
       "      <td>0.0490</td>\n",
       "      <td>1308</td>\n",
       "    </tr>\n",
       "    <tr>\n",
       "      <th>1</th>\n",
       "      <td>2</td>\n",
       "      <td>rhicks</td>\n",
       "      <td>LinkedIn</td>\n",
       "      <td>987518</td>\n",
       "      <td>5</td>\n",
       "      <td>0.0834</td>\n",
       "      <td>479.24</td>\n",
       "      <td>0.0174</td>\n",
       "      <td>13302</td>\n",
       "    </tr>\n",
       "    <tr>\n",
       "      <th>2</th>\n",
       "      <td>3</td>\n",
       "      <td>qthomas</td>\n",
       "      <td>Facebook</td>\n",
       "      <td>218870</td>\n",
       "      <td>3</td>\n",
       "      <td>0.1020</td>\n",
       "      <td>150.36</td>\n",
       "      <td>0.0318</td>\n",
       "      <td>11043</td>\n",
       "    </tr>\n",
       "    <tr>\n",
       "      <th>3</th>\n",
       "      <td>4</td>\n",
       "      <td>carlosholt</td>\n",
       "      <td>Instagram</td>\n",
       "      <td>207432</td>\n",
       "      <td>6</td>\n",
       "      <td>0.0834</td>\n",
       "      <td>932.62</td>\n",
       "      <td>0.0400</td>\n",
       "      <td>12074</td>\n",
       "    </tr>\n",
       "    <tr>\n",
       "      <th>4</th>\n",
       "      <td>5</td>\n",
       "      <td>parsonsashley</td>\n",
       "      <td>Facebook</td>\n",
       "      <td>350204</td>\n",
       "      <td>2</td>\n",
       "      <td>0.0642</td>\n",
       "      <td>504.44</td>\n",
       "      <td>0.0463</td>\n",
       "      <td>14083</td>\n",
       "    </tr>\n",
       "    <tr>\n",
       "      <th>...</th>\n",
       "      <td>...</td>\n",
       "      <td>...</td>\n",
       "      <td>...</td>\n",
       "      <td>...</td>\n",
       "      <td>...</td>\n",
       "      <td>...</td>\n",
       "      <td>...</td>\n",
       "      <td>...</td>\n",
       "      <td>...</td>\n",
       "    </tr>\n",
       "    <tr>\n",
       "      <th>9995</th>\n",
       "      <td>9996</td>\n",
       "      <td>sbyrd</td>\n",
       "      <td>TikTok</td>\n",
       "      <td>388169</td>\n",
       "      <td>6</td>\n",
       "      <td>0.0642</td>\n",
       "      <td>362.91</td>\n",
       "      <td>0.0108</td>\n",
       "      <td>45091</td>\n",
       "    </tr>\n",
       "    <tr>\n",
       "      <th>9996</th>\n",
       "      <td>9997</td>\n",
       "      <td>jacksongerald</td>\n",
       "      <td>TikTok</td>\n",
       "      <td>150775</td>\n",
       "      <td>1</td>\n",
       "      <td>0.0642</td>\n",
       "      <td>177.92</td>\n",
       "      <td>0.0262</td>\n",
       "      <td>33084</td>\n",
       "    </tr>\n",
       "    <tr>\n",
       "      <th>9997</th>\n",
       "      <td>9998</td>\n",
       "      <td>eryan</td>\n",
       "      <td>Twitter</td>\n",
       "      <td>427451</td>\n",
       "      <td>5</td>\n",
       "      <td>0.0834</td>\n",
       "      <td>432.65</td>\n",
       "      <td>0.0402</td>\n",
       "      <td>12484</td>\n",
       "    </tr>\n",
       "    <tr>\n",
       "      <th>9998</th>\n",
       "      <td>9999</td>\n",
       "      <td>barbara57</td>\n",
       "      <td>LinkedIn</td>\n",
       "      <td>132884</td>\n",
       "      <td>4</td>\n",
       "      <td>0.0986</td>\n",
       "      <td>892.99</td>\n",
       "      <td>0.0329</td>\n",
       "      <td>35766</td>\n",
       "    </tr>\n",
       "    <tr>\n",
       "      <th>9999</th>\n",
       "      <td>10000</td>\n",
       "      <td>nbutler</td>\n",
       "      <td>Facebook</td>\n",
       "      <td>725253</td>\n",
       "      <td>2</td>\n",
       "      <td>0.0642</td>\n",
       "      <td>878.87</td>\n",
       "      <td>0.0420</td>\n",
       "      <td>13012</td>\n",
       "    </tr>\n",
       "  </tbody>\n",
       "</table>\n",
       "<p>10000 rows × 9 columns</p>\n",
       "</div>"
      ],
      "text/plain": [
       "      Account ID       Username   Platform  Follower Count  Posts Per Week  \\\n",
       "0              1     harrislisa     TikTok           54217               3   \n",
       "1              2         rhicks   LinkedIn          987518               5   \n",
       "2              3        qthomas   Facebook          218870               3   \n",
       "3              4     carlosholt  Instagram          207432               6   \n",
       "4              5  parsonsashley   Facebook          350204               2   \n",
       "...          ...            ...        ...             ...             ...   \n",
       "9995        9996          sbyrd     TikTok          388169               6   \n",
       "9996        9997  jacksongerald     TikTok          150775               1   \n",
       "9997        9998          eryan    Twitter          427451               5   \n",
       "9998        9999      barbara57   LinkedIn          132884               4   \n",
       "9999       10000        nbutler   Facebook          725253               2   \n",
       "\n",
       "      Engagement Rate  Ad Spend (USD)  Conversion Rate  Campaign Reach  \n",
       "0              0.0986          538.10           0.0490            1308  \n",
       "1              0.0834          479.24           0.0174           13302  \n",
       "2              0.1020          150.36           0.0318           11043  \n",
       "3              0.0834          932.62           0.0400           12074  \n",
       "4              0.0642          504.44           0.0463           14083  \n",
       "...               ...             ...              ...             ...  \n",
       "9995           0.0642          362.91           0.0108           45091  \n",
       "9996           0.0642          177.92           0.0262           33084  \n",
       "9997           0.0834          432.65           0.0402           12484  \n",
       "9998           0.0986          892.99           0.0329           35766  \n",
       "9999           0.0642          878.87           0.0420           13012  \n",
       "\n",
       "[10000 rows x 9 columns]"
      ]
     },
     "execution_count": 4,
     "metadata": {},
     "output_type": "execute_result"
    }
   ],
   "source": [
    "df = pd.read_csv(\"data.csv\")\n",
    "df"
   ]
  },
  {
   "cell_type": "markdown",
   "metadata": {},
   "source": [
    "#### Задание 1\n",
    "\n",
    "Колонка `Platform` содержит название различных платформ. Давайте представим, что в них есть некоторое отношение порядка. Закодируйте каждую платформу целым числом (от 0 до N) и положите этот \"код\" в новую колонку `Platform_Code`. Теперь вычислите корреляцию Спирмена между всеми парами колонок в датасете (результатом будет таблица корреляций). В качестве ответа выведите значение корреляции `Platform_Code` с `Engagement Rate`. Можете после вывода числа еще коротко написать, что оно означает (нет, это не оценивается).\n",
    "\n",
    "**Hint**: [pd.factorize](https://pandas.pydata.org/pandas-docs/stable/reference/api/pandas.factorize.html), [pd.DataFrame.select_dtypes](https://pandas.pydata.org/pandas-docs/stable/reference/api/pandas.DataFrame.select_dtypes.html), [pd.DataFrame.corr](https://pandas.pydata.org/pandas-docs/stable/reference/api/pandas.DataFrame.corr.html)."
   ]
  },
  {
   "cell_type": "code",
   "execution_count": 5,
   "metadata": {},
   "outputs": [],
   "source": [
    "from scipy.stats import spearmanr"
   ]
  },
  {
   "cell_type": "code",
   "execution_count": 6,
   "metadata": {},
   "outputs": [
    {
     "name": "stdout",
     "output_type": "stream",
     "text": [
      "Таблица корреляции Спирмена между всеми парами колонок в датасете,\n",
      "(таблица корреляций):\n",
      "                 Account ID  Follower Count  Posts Per Week  Engagement Rate  \\\n",
      "Account ID         1.000000        0.002866       -0.003058         0.000611   \n",
      "Follower Count     0.002866        1.000000       -0.004853        -0.016428   \n",
      "Posts Per Week    -0.003058       -0.004853        1.000000         0.016908   \n",
      "Engagement Rate    0.000611       -0.016428        0.016908         1.000000   \n",
      "Ad Spend (USD)    -0.004928       -0.004516       -0.001298         0.007712   \n",
      "Conversion Rate    0.005095        0.014002       -0.011176        -0.006964   \n",
      "Campaign Reach    -0.006896       -0.020816        0.003364         0.013299   \n",
      "Platform_Code     -0.005208        0.010304       -0.011840         0.031382   \n",
      "\n",
      "                 Ad Spend (USD)  Conversion Rate  Campaign Reach  \\\n",
      "Account ID            -0.004928         0.005095       -0.006896   \n",
      "Follower Count        -0.004516         0.014002       -0.020816   \n",
      "Posts Per Week        -0.001298        -0.011176        0.003364   \n",
      "Engagement Rate        0.007712        -0.006964        0.013299   \n",
      "Ad Spend (USD)         1.000000         0.011723        0.011008   \n",
      "Conversion Rate        0.011723         1.000000       -0.008647   \n",
      "Campaign Reach         0.011008        -0.008647        1.000000   \n",
      "Platform_Code         -0.014922         0.007528        0.012024   \n",
      "\n",
      "                 Platform_Code  \n",
      "Account ID           -0.005208  \n",
      "Follower Count        0.010304  \n",
      "Posts Per Week       -0.011840  \n",
      "Engagement Rate       0.031382  \n",
      "Ad Spend (USD)       -0.014922  \n",
      "Conversion Rate       0.007528  \n",
      "Campaign Reach        0.012024  \n",
      "Platform_Code         1.000000  \n",
      "\n",
      "Корреляция между Platform_Code и Engagement Rate: 0.03138169529349812\n"
     ]
    }
   ],
   "source": [
    "# ( ੭ ･ᴗ･ )੭\n",
    "\n",
    "df['Platform_Code'] = pd.factorize(df['Platform'])[0]\n",
    "\n",
    "numeric_df = df.select_dtypes(include=['number'])\n",
    "\n",
    "corr_matrix = numeric_df.corr(method='spearman')\n",
    "\n",
    "print(\"Таблица корреляции Спирмена между всеми парами колонок в датасете,\")\n",
    "print('(таблица корреляций):')\n",
    "print(corr_matrix)\n",
    "\n",
    "platform_engagement_corr = corr_matrix.loc['Platform_Code', 'Engagement Rate']\n",
    "print(\"\\nКорреляция между Platform_Code и Engagement Rate:\", platform_engagement_corr)\n"
   ]
  },
  {
   "cell_type": "markdown",
   "metadata": {},
   "source": [
    "#### Задание 2\n",
    "\n",
    "Теперь посмотрите на столбец `Follower Count`. В нем какие-то числа. Иногда бывает полезно провести дискретизацию такого признака. Разбейте все значения в столбце на 4 группы: \"Low\", \"Medium\", \"High\", \"Very High\". Каждая группа включает в себя новые 25% данных. То есть, Low включает в себя 25% самых маленьких значений признака и так далее. Положите значения \"Low\", \"Medium\", \"High\" или \"Very High\" для каждого сэмпла датасета в новую колонку `Follower_Bin`. Теперь посчитайте среднее значение `Engagement Rate` для каждой категории из `Follower_Bin`. В качестве ответа выведите значение для категории \"High\".\n",
    "\n",
    "**Hint**: [pd.qcut](https://pandas.pydata.org/pandas-docs/stable/reference/api/pandas.qcut.html), [pd.groupby](https://pandas.pydata.org/pandas-docs/stable/reference/api/pandas.DataFrame.groupby.html), [pd.DataFrame.mean](https://pandas.pydata.org/pandas-docs/stable/reference/api/pandas.DataFrame.mean.html)"
   ]
  },
  {
   "cell_type": "code",
   "execution_count": 7,
   "metadata": {},
   "outputs": [
    {
     "name": "stderr",
     "output_type": "stream",
     "text": [
      "C:\\Users\\chern\\AppData\\Local\\Temp\\ipykernel_4180\\3181041049.py:5: FutureWarning: The default of observed=False is deprecated and will be changed to True in a future version of pandas. Pass observed=False to retain current behavior or observed=True to adopt the future default and silence this warning.\n",
      "  mean_engagement = df.groupby('Follower_Bin')['Engagement Rate'].mean()\n"
     ]
    },
    {
     "data": {
      "text/plain": [
       "0.08655032"
      ]
     },
     "execution_count": 7,
     "metadata": {},
     "output_type": "execute_result"
    }
   ],
   "source": [
    "# (◕^^◕)\n",
    "\n",
    "df['Follower_Bin'] = pd.qcut(df['Follower Count'], q=4, labels=[\"Low\", \"Medium\", \"High\", \"Very High\"])\n",
    "\n",
    "mean_engagement = df.groupby('Follower_Bin')['Engagement Rate'].mean()\n",
    "\n",
    "high_engagement_rate = mean_engagement['High']\n",
    "\n",
    "high_engagement_rate\n"
   ]
  },
  {
   "cell_type": "markdown",
   "metadata": {},
   "source": [
    "#### Задание 3\n",
    "\n",
    "Иногда бывает полезно превратить широкую таблицу в длинную (например, для визуализаций сразу нескольких признаков на одной картинке). Да, звучит странно, но именно этим вы сейчас и займетесь. Сделайте новый датафрейм `melted_df`, в который вы поместите каждый сэмпл датасета 6 раз: по одному разу на значение из 'Follower Count', 'Posts Per Week', 'Ad Spend (USD)', 'Conversion Rate', 'Engagement Rate' и 'Campaign Reach'. То есть, вы берете сэмпл из датасета (строку) и превращаете ее в 6 отдельных строк. Каждая отдельная строка в столбце `Metric` имеет имя из предложенного списка 5 признаков, а в столбце `Value` - значение данного сэмпла по этому признаку. Значение `Platform` повторяется в этих 6 строках.\n",
    "\n",
    "Иначе говоря, \n",
    "\n",
    "```json\n",
    "{\n",
    "    \"Account ID\": 1,\n",
    "    \"Username\": \"harrislisa\",\n",
    "    \"Platform\": \"TikTok\",\n",
    "    \"Follower Count\": 54217,\n",
    "    \"Posts Per Week\": 3,\n",
    "    \"Engagement Rate\": 0.0986,\n",
    "    \"Ad Spend (USD)\": 538.1,\n",
    "    \"Conversion Rate\": 0.049,\n",
    "    \"Campaign Reach\": 1308,\n",
    "    \"Platform_Code\": 0,\n",
    "    \"Follower_Bin\": \"Low\"\n",
    "}\n",
    "```\n",
    "\n",
    "превращается в \n",
    "\n",
    "```json\n",
    "{\n",
    "    \"Platform\": \"TikTok\",\n",
    "    \"Metric\": \"Follower Count\",\n",
    "    \"Value\": 54217,\n",
    "},\n",
    "{\n",
    "    \"Platform\": \"TikTok\",\n",
    "    \"Metric\": \"Posts Per Week\",\n",
    "    \"Value\": 3,\n",
    "}, ...\n",
    "```\n",
    "\n",
    "Для каждого уникальной пары значений (`Platform`, `Metric`) посчитайте моду среди всех значений `Value` для этой пары, результат сделайте списком и оставьте только наибольшее. В качестве ответа выведите сумму полученных мод (сумму всех значений в столбце `Value` уже после вычисления мод). Иначе говоря, выведите сумму всех мод значений для всех уникальных пар (`Platform`, `Metric`).\n",
    "\n",
    "**Hint**: [pd.melt](https://pandas.pydata.org/pandas-docs/stable/reference/api/pandas.melt.html), [pd.DataFrame.mode](https://pandas.pydata.org/pandas-docs/stable/reference/api/pandas.DataFrame.mode.html), [pd.DataFrameGroupBy.agg](https://pandas.pydata.org/docs/dev/reference/api/pandas.core.groupby.DataFrameGroupBy.agg.html)"
   ]
  },
  {
   "cell_type": "code",
   "execution_count": 8,
   "metadata": {},
   "outputs": [
    {
     "data": {
      "text/plain": [
       "3100285.4716"
      ]
     },
     "execution_count": 8,
     "metadata": {},
     "output_type": "execute_result"
    }
   ],
   "source": [
    "# (づ๑•ᴗ•๑)づ♡\n",
    "melted_df = pd.melt(df, id_vars=['Platform'], \n",
    "                        value_vars=['Follower Count', 'Posts Per Week', 'Ad Spend (USD)', 'Conversion Rate', 'Engagement Rate', 'Campaign Reach'],\n",
    "                        var_name='Metric',\n",
    "                        value_name='Value')\n",
    "            \n",
    "mode_df = melted_df.groupby(['Platform', 'Metric'])['Value'].agg(lambda x: x.mode().max()).reset_index()\n",
    "\n",
    "total_mode_sum = mode_df['Value'].sum()\n",
    "\n",
    "total_mode_sum"
   ]
  },
  {
   "cell_type": "markdown",
   "metadata": {},
   "source": [
    "#### Задание 4\n",
    "\n",
    "А теперь хочется посмотреть на самые популярные аккаунты на разных платформах. Для каждой платформы отсортируйте датафрейм по убыванию количества подписчиков (`Follower Count`) - да, без циклов, сразу для всех платформ сделать сортировку, а затем оставьте только первые три записи для каждой платформы - это и будут три самых популярных аккаунта для каждой платформы. В качестве ответа выведите саму таблицу и минимальное значение `Follower Count` в ней.\n",
    "\n",
    "**Hint**: к *groupby* можно применять функции - это эквивалентно применению функции к каждой \"группе\" внутри groupby-объекта. Читайте [про применение apply к датафрейму после groupby](https://pandas.pydata.org/pandas-docs/stable/user_guide/groupby.html#flexible-apply)."
   ]
  },
  {
   "cell_type": "code",
   "execution_count": 9,
   "metadata": {},
   "outputs": [
    {
     "name": "stdout",
     "output_type": "stream",
     "text": [
      "      Account ID         Username   Platform  Follower Count  Posts Per Week  \\\n",
      "2403        2404           eric65   Facebook          999982               6   \n",
      "4920        4921      teresaellis    Twitter          999919               6   \n",
      "5838        5839     edwardthomas     TikTok          999739               7   \n",
      "8685        8686  alexandersamuel  Instagram          999726               3   \n",
      "9684        9685           sriley    Twitter          999442               3   \n",
      "3965        3966         lrodgers  Instagram          999351               1   \n",
      "4234        4235    andradewesley     TikTok          999234               5   \n",
      "3039        3040          toneill   LinkedIn          999055               4   \n",
      "6359        6360    andrewgregory   LinkedIn          998968               7   \n",
      "2159        2160     ashleycooper   LinkedIn          998925               6   \n",
      "2575        2576     williamwyatt     TikTok          998623               6   \n",
      "7576        7577       peggymunoz    Twitter          998216               6   \n",
      "7350        7351     patricknoble   Facebook          997915               3   \n",
      "2189        2190           jbrown  Instagram          997844               5   \n",
      "1689        1690      chavezjason   Facebook          997512               7   \n",
      "\n",
      "      Engagement Rate  Ad Spend (USD)  Conversion Rate  Campaign Reach  \\\n",
      "2403           0.0642          884.06           0.0281           17312   \n",
      "4920           0.0834          411.63           0.0460            3975   \n",
      "5838           0.0642          630.77           0.0325           35523   \n",
      "8685           0.0834          687.61           0.0205           11050   \n",
      "9684           0.0834          206.84           0.0225           12783   \n",
      "3965           0.0834          565.07           0.0335           12391   \n",
      "4234           0.0834          872.77           0.0481           17188   \n",
      "3039           0.0642          799.49           0.0174           21862   \n",
      "6359           0.1020          797.64           0.0351           15552   \n",
      "2159           0.0856          474.46           0.0156           45956   \n",
      "2575           0.0856          477.98           0.0250           43299   \n",
      "7576           0.0642          456.61           0.0456           22037   \n",
      "7350           0.0834          429.01           0.0182           25985   \n",
      "2189           0.0642          505.61           0.0202           14717   \n",
      "1689           0.0834          993.20           0.0397           45717   \n",
      "\n",
      "      Platform_Code Follower_Bin  \n",
      "2403              2    Very High  \n",
      "4920              4    Very High  \n",
      "5838              0    Very High  \n",
      "8685              3    Very High  \n",
      "9684              4    Very High  \n",
      "3965              3    Very High  \n",
      "4234              0    Very High  \n",
      "3039              1    Very High  \n",
      "6359              1    Very High  \n",
      "2159              1    Very High  \n",
      "2575              0    Very High  \n",
      "7576              4    Very High  \n",
      "7350              2    Very High  \n",
      "2189              3    Very High  \n",
      "1689              2    Very High  \n",
      "Минимальное значение Follower Count: 997512\n"
     ]
    }
   ],
   "source": [
    "# ε(´סּ︵סּ`)з\n",
    "\n",
    "top_accounts = df.sort_values(by='Follower Count', ascending=False).groupby('Platform').head(3)\n",
    "\n",
    "print(top_accounts)\n",
    "\n",
    "min_follower_count = top_accounts['Follower Count'].min()\n",
    "print(\"Минимальное значение Follower Count:\", min_follower_count)"
   ]
  },
  {
   "cell_type": "markdown",
   "metadata": {},
   "source": [
    "#### Задание 5\n",
    "\n",
    "Хочется посчитать какую-то метрику. Мы хотим посмотреть, на отношение разности суммы подписчиков аккаунтов с высокой и низкой конверсией к суммарному охвату рекламы на каждой платформе. То есть, мы делим аккаунты на две группы: высокая и низка конверсия. Затем мы смотрим на то, на сколько сильно влияние аккаунтов с высокой конверсией по сравнению с аккаунтами с низкой конверсией. \n",
    "\n",
    "Давайте определим *Conversion Influence* следущим образом:\n",
    "\n",
    "$$Conversion Influence = \\frac{Total Follower\\ Count (High) - Total Follower\\ Count (Low)}{Total Campaign Reach (High)+Total Campaign Reach (Low)}$$\n",
    "\n",
    "Считать эту метрику мы будет для каждой `Platform`. В этой формуле High - это значения всех сэмплов датасета, в которых `Conversion Rate` больше медианы, а `Low` - не более медианы. `Total Feature` - это суммарное количество значений `Feature` либо по `High` сэмплам, либо по `Low`.\n",
    "\n",
    "Чтобы постоянно не пересчитывать, где High. где Low, сделайте новую колонку в датасете `Conversion_Category`. Положите в нее для каждой строки либо High, либо Low.\n",
    "\n",
    "Выведите платформу с самым большим `Conversion Influence`.\n",
    "\n",
    "**Hint**: данное задание не про *groupby*, а скорее про [pd.pivot_table](https://pandas.pydata.org/pandas-docs/stable/reference/api/pandas.pivot_table.html). Сделайте сводную таблицу, по которой уже можно посчитать суммы, а затем подставить их в формулы."
   ]
  },
  {
   "cell_type": "code",
   "execution_count": 10,
   "metadata": {},
   "outputs": [
    {
     "name": "stdout",
     "output_type": "stream",
     "text": [
      "Платформа с самым большим Conversion Influence: Twitter (1.0908724546727178)\n"
     ]
    }
   ],
   "source": [
    "# (︶ω︶)\n",
    "\n",
    "median_conversion_rate = df['Conversion Rate'].median()\n",
    "\n",
    "df['Conversion_Category'] = df['Conversion Rate'].apply(lambda x: 'High' if x > median_conversion_rate else 'Low')\n",
    "\n",
    "pivot_table = pd.pivot_table(df, \n",
    "                             values=['Follower Count', 'Campaign Reach'], \n",
    "                             index='Platform', \n",
    "                             columns='Conversion_Category', \n",
    "                             aggfunc='sum', \n",
    "                             fill_value=0)\n",
    "\n",
    "pivot_table['Conversion Influence'] = (pivot_table['Follower Count']['High'] - pivot_table['Follower Count']['Low']) / \\\n",
    "                                      (pivot_table['Campaign Reach']['High'] + pivot_table['Campaign Reach']['Low'])\n",
    "\n",
    "max_influence_platform = pivot_table['Conversion Influence'].idxmax()\n",
    "max_influence_value = pivot_table['Conversion Influence'].max()\n",
    "\n",
    "print(f\"Платформа с самым большим Conversion Influence: {max_influence_platform} ({max_influence_value})\")"
   ]
  },
  {
   "cell_type": "markdown",
   "metadata": {},
   "source": [
    "#### Задание 6\n",
    "\n",
    "Мы знаем, что вам понравилось считать метрики по формуле. Давайте закрепим этот успех. Теперь для каждой платформы посчитаем, на сколько эффективна реклама в разрезе трех последовательных записей в датасете. \n",
    "\n",
    "Для каждой платформы отсортируйте записи в порядке убывания `Posts Per Week`. Будто бы аккаунты, которые постят чаще, используют более \"активные\" стратегии по рекламе. Теперь посчитайте *скользущие суммы с окном 3* по `Campaign Reach` и `Ad Spend (USD)`. Скользящая сумма с окном N - это вы идете по массиву, берете все последовательные тройки записей и суммируете их. Для первых двух записей троек не найдется. Для них скользящее среднее - NaN, что нам не помешает. \n",
    "\n",
    "Теперь для каждого окна посчитайте \n",
    "\n",
    "$$Rolling Efficiency Ratio = \\frac{Rolling Sum of Campaign Reach}{Rolling Sum of Ad Spend}$$\n",
    "\n",
    "По сути, для каждого окна вы посчитаете сколько пользователе привлеклось за один доллар, потреченный на рекламу, в данном окне. Понятно, что значений будет столько, сколько окон. Нам интересно максимально значение такой эффективности для каждой платформы.\n",
    "\n",
    "В качестве ответа выведите название платформы с наибольшей максимальной эффективность и наименьшей (два названия, не одно, не три, ровно два).\n",
    "\n",
    "**Hint**: окна можно делать через [pd.DataFrame.rolling](https://pandas.pydata.org/pandas-docs/stable/reference/api/pandas.DataFrame.rolling.html)."
   ]
  },
  {
   "cell_type": "code",
   "execution_count": 11,
   "metadata": {},
   "outputs": [
    {
     "name": "stdout",
     "output_type": "stream",
     "text": [
      "Платформа с наибольшей эффективностью: Facebook\n",
      "Платформа с наименьшей эффективностью: Twitter\n"
     ]
    }
   ],
   "source": [
    "# (◔/‿\\◔)\n",
    "\n",
    "df_sorted = df.sort_values(by=['Platform', 'Posts Per Week'], ascending=[True, False])\n",
    "\n",
    "df_sorted['Rolling Reach'] = df_sorted.groupby('Platform')['Campaign Reach'].rolling(window=3, min_periods=1).sum().reset_index(level=0, drop=True)\n",
    "df_sorted['Rolling Ad Spend'] = df_sorted.groupby('Platform')['Ad Spend (USD)'].rolling(window=3, min_periods=1).sum().reset_index(level=0, drop=True)\n",
    "\n",
    "df_sorted['Rolling Efficiency Ratio'] = df_sorted['Rolling Reach'] / df_sorted['Rolling Ad Spend']\n",
    "\n",
    "max_efficiency = df_sorted.groupby('Platform')['Rolling Efficiency Ratio'].max()\n",
    "min_efficiency = df_sorted.groupby('Platform')['Rolling Efficiency Ratio'].min()\n",
    "\n",
    "max_platform = max_efficiency.idxmax()\n",
    "min_platform = min_efficiency.idxmin()\n",
    "\n",
    "print(f\"Платформа с наибольшей эффективностью: {max_platform}\")\n",
    "print(f\"Платформа с наименьшей эффективностью: {min_platform}\")"
   ]
  },
  {
   "cell_type": "markdown",
   "metadata": {},
   "source": [
    "#### Задание 7\n",
    "\n",
    "Это еще не все прекрасные функции pandas, которые мы хотим вам показать. Теперь вы посчитаете, сколько аккаунтов на каждой платформе одновременно лучшие по `Engagement Rate` и `Conversion Rate`.\n",
    "\n",
    "Сделайте два отдельных суб-сета. В одном оставьте для каждой платфмормы один топовый аккаунт по `Engagement Rate`, в другом - по `Conversion Rate`. Соедините эти два подмножества по столбцу `Platform` так, что в одно строке есть описание сразу двух аккаунтов-лидеров. Теперь посмотрите равны ли имена аккаунтов в одной строке. Выведите количество строк, в которых названия аккаунтов совпадают."
   ]
  },
  {
   "cell_type": "code",
   "execution_count": 12,
   "metadata": {},
   "outputs": [
    {
     "name": "stdout",
     "output_type": "stream",
     "text": [
      "Количество строк, в которых названия аккаунтов совпадают: 0\n"
     ]
    }
   ],
   "source": [
    "# ( ͡° ͜ʖ ͡°)\n",
    "\n",
    "top_engagement = df.loc[df.groupby(\"Platform\")[\"Engagement Rate\"].idxmax()]\n",
    "top_conversion = df.loc[df.groupby(\"Platform\")[\"Conversion Rate\"].idxmax()]\n",
    "\n",
    "merged_df = pd.merge(top_engagement, \n",
    "                     top_conversion, \n",
    "                     on=\"Platform\", \n",
    "                     suffixes=(\"_eng\", \"_conv\"))\n",
    "\n",
    "matching_count = (merged_df[\"Username_eng\"] == merged_df[\"Username_conv\"]).sum()\n",
    "\n",
    "\n",
    "print(\"Количество строк, в которых названия аккаунтов совпадают:\", matching_count)"
   ]
  },
  {
   "cell_type": "markdown",
   "metadata": {},
   "source": [
    "#### Задание 8\n",
    "\n",
    "Давайте теперь что-то попроще сделаем. Например, посчитаем отношение суммарного количества подписчиков на аккаунтах с высокой конверсией к такой же сумме в аккаунтах с низкой конверсией (очевидно, для каждой платформы). По сути, мы просто хотим получить число, которое характеризует, на сколько сильно аккаунты с высокой конверсией \"доминируют\" над аккаунтами с низкой конверсией в плане количества подписчиков.\n",
    "\n",
    "Высокой конверсией будем считать конверсию больше средней. Остальное - низкая. Посчитайте суммы подписчиков для каждой платформы, поделите одно на другое и выведите разницу между самым большим значением и самым маленьким, а также платформы, которые соотвутствуют этим значениям.\n",
    "\n",
    "Используйте магическую команду `%%time`, чтобы замерить, сколько времени ушло на исполнение вашего pandas-скрипта."
   ]
  },
  {
   "cell_type": "code",
   "execution_count": 14,
   "metadata": {},
   "outputs": [
    {
     "name": "stdout",
     "output_type": "stream",
     "text": [
      "Максимальное значение Ratio: 1.04 (Платформа: Twitter)\n",
      "Минимальное значение Ratio: 0.86 (Платформа: Instagram)\n",
      "Разница между максимумом и минимумом: 0.18\n",
      "CPU times: total: 31.2 ms\n",
      "Wall time: 24.2 ms\n"
     ]
    }
   ],
   "source": [
    "%%time\n",
    "# (◡‿◡✿)\n",
    "\n",
    "mean_conversion = df[\"Conversion Rate\"].mean()\n",
    "\n",
    "df[\"Conversion Level\"] = df[\"Conversion Rate\"].apply(lambda x: \"high\" if x > mean_conversion else \"low\")\n",
    "\n",
    "followers_summary = df.groupby([\"Platform\", \"Conversion Level\"])[\"Follower Count\"].sum().unstack()\n",
    "\n",
    "followers_summary[\"Ratio\"] = followers_summary[\"high\"] / followers_summary[\"low\"]\n",
    "\n",
    "max_ratio = followers_summary[\"Ratio\"].max()\n",
    "min_ratio = followers_summary[\"Ratio\"].min()\n",
    "\n",
    "max_platform = followers_summary[\"Ratio\"].idxmax()\n",
    "min_platform = followers_summary[\"Ratio\"].idxmin()\n",
    "\n",
    "difference = max_ratio - min_ratio\n",
    "\n",
    "print(f\"Максимальное значение Ratio: {max_ratio:.2f} (Платформа: {max_platform})\")\n",
    "print(f\"Минимальное значение Ratio: {min_ratio:.2f} (Платформа: {min_platform})\")\n",
    "print(f\"Разница между максимумом и минимумом: {difference:.2f}\")"
   ]
  },
  {
   "cell_type": "markdown",
   "metadata": {},
   "source": [
    "#### Задание 9\n",
    "\n",
    "А теперь решите задание 8 чисто питоном. Никаких функций и методов pandas. Только питоновские циклы. Замерьте время выполнения кода. Наконец, сравните время в задании 8 и 9. Напишите ниже, кто же победил: чистый python и pandas?\n",
    "\n",
    "**Hint**: Чтобы итерироваться по датафрейму, можно из него сделать генератор через [pd.DataFrame.iterrows](https://pandas.pydata.org/pandas-docs/stable/reference/api/pandas.DataFrame.iterrows.html) или [pd.DataFrame.itertuples](https://pandas.pydata.org/pandas-docs/stable/reference/api/pandas.DataFrame.itertuples.html#pandas.DataFrame.itertuples). К слову, это не все способы итерироваться по датафрейму."
   ]
  },
  {
   "cell_type": "code",
   "execution_count": 15,
   "metadata": {},
   "outputs": [
    {
     "name": "stdout",
     "output_type": "stream",
     "text": [
      "Максимальное значение Ratio: 1.04 (Платформа: Twitter)\n",
      "Минимальное значение Ratio: 0.86 (Платформа: Instagram)\n",
      "Разница между максимумом и минимумом: 0.18\n",
      "Время выполнения (чистый Python): 2.0188 секунд\n"
     ]
    }
   ],
   "source": [
    "# (✿◠‿◠)\n",
    "\n",
    "import time\n",
    "\n",
    "start_time = time.time()\n",
    "\n",
    "conversion_rates = [row[\"Conversion Rate\"] for _, row in df.iterrows()]\n",
    "mean_conversion = sum(conversion_rates) / len(conversion_rates)\n",
    "\n",
    "# словарь для хранения подписчиков по платформам\n",
    "followers_summary = {}\n",
    "\n",
    "for _, row in df.iterrows():\n",
    "    platform = row[\"Platform\"]\n",
    "    followers = row[\"Follower Count\"]\n",
    "    conversion = row[\"Conversion Rate\"]\n",
    "    \n",
    "    level = \"high\" if conversion > mean_conversion else \"low\"\n",
    "\n",
    "    if platform not in followers_summary:\n",
    "        followers_summary[platform] = {\"high\": 0, \"low\": 0}\n",
    "    followers_summary[platform][level] += followers\n",
    "\n",
    "ratios = {platform: data[\"high\"] / data[\"low\"] for platform, data in followers_summary.items()}\n",
    "\n",
    "max_platform = max(ratios, key=ratios.get)\n",
    "min_platform = min(ratios, key=ratios.get)\n",
    "\n",
    "difference = ratios[max_platform] - ratios[min_platform]\n",
    "\n",
    "end_time = time.time()\n",
    "\n",
    "print(f\"Максимальное значение Ratio: {ratios[max_platform]:.2f} (Платформа: {max_platform})\")\n",
    "print(f\"Минимальное значение Ratio: {ratios[min_platform]:.2f} (Платформа: {min_platform})\")\n",
    "print(f\"Разница между максимумом и минимумом: {difference:.2f}\")\n",
    "\n",
    "print(f\"Время выполнения (чистый Python): {end_time - start_time:.4f} секунд\")\n"
   ]
  },
  {
   "cell_type": "markdown",
   "metadata": {},
   "source": [
    "**А победителем является**: Конечно же, победил pandas! У него время выполнения 24.2 ms, в то время, как код на чистом python занял 2.0188 секунд. Это связано с тем, что pandas использует векторизированные операции и оптимизированный C-код.\n",
    "Чистый Python будет медленнее, так как использует циклы, которые в Python менее эффективны.\n",
    "\n",
    "Код на pandas оказался в ~83 раза быстрее, чем чистый Python! 🚀"
   ]
  },
  {
   "cell_type": "markdown",
   "metadata": {},
   "source": [
    "#### Задание 10\n",
    "\n",
    "Крайне серьезное задание. Отнеситесь к нему соответствующе. В ячейке ниже напишите ваш любимый анекдот или мем (только без баянов, окей?). Можно плохие. Помните, это задание на полный балл. Проверяющий работу ассистент должен улыбнуться.\n",
    "\n",
    "Если вставляете картинку, то убедитесь, что вы ее не подгружаете локально. А то будет неудобно - потерять балл на этом задании, когда надо было выложить картинку на облако и прокинуть ссылку. И нет, нельзя сюда просто ссылку вставить. Либо ищите, как вставить картинку, либо смешной анекдот. Есть всего два стула - выбирайте..."
   ]
  },
  {
   "cell_type": "code",
   "execution_count": 16,
   "metadata": {},
   "outputs": [],
   "source": [
    "# ‿( ́ ̵ _-`)‿\n",
    "\n",
    "# 　∧＿∧\n",
    "# （｡･ω･｡)つ━☆・*。\n",
    "# ⊂　　 ノ 　　　・゜+.\n",
    "# 　しーＪ　　　°。+ *´¨)\n",
    "# 　　　　　　　　　.• ´¸.•*´¨) ¸.•*¨)\n",
    "# 　　　　　　　　　　(¸.•´ (¸.•’*\n",
    "#          .        ) )       (( (    )   \n",
    "#  (     (   (  (  (\\(        ))\\)\\  (()  \n",
    "#  )\\    )\\  )\\ )\\: )(|     (((_)_()()(_) \n",
    "# (_)    | |((_)(_)_()\\     |_ _|   \\   \\ \n",
    "# | |    | | _ \\ V / -_)     | || - | |) |\n",
    "# |_|    |_|___/\\_/\\___|    |___|_|_|___/ "
   ]
  },
  {
   "cell_type": "markdown",
   "metadata": {},
   "source": [
    "Жил один рыжий человек, у которого не было глаз и ушей. У него не было и волос, так что рыжим его называли условно.\n",
    "Говорить он не мог, так как у него не было рта. Носа тоже у него не было.\n",
    "У него не было даже рук и ног. И живота у него не было, и спины у него не было, и хребта у него не было, и никаких внутренностей у него не было. Ничего не было!\n",
    "Так что непонятно, о ком идёт речь.\n",
    "Уж лучше мы о нём не будем больше говорить"
   ]
  }
 ],
 "metadata": {
  "kernelspec": {
   "display_name": "Python 3 (ipykernel)",
   "language": "python",
   "name": "python3"
  },
  "language_info": {
   "codemirror_mode": {
    "name": "ipython",
    "version": 3
   },
   "file_extension": ".py",
   "mimetype": "text/x-python",
   "name": "python",
   "nbconvert_exporter": "python",
   "pygments_lexer": "ipython3",
   "version": "3.10.2"
  }
 },
 "nbformat": 4,
 "nbformat_minor": 1
}
